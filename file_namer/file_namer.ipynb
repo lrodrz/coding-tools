{
 "cells": [
  {
   "cell_type": "code",
   "execution_count": 3,
   "metadata": {},
   "outputs": [
    {
     "name": "stdout",
     "output_type": "stream",
     "text": [
      "chain_E_and_resid_439_to_466.pdb\n"
     ]
    }
   ],
   "source": [
    "# for naming .pdb files from vmd\n",
    "text = 'chain E and resid 439 to 466'\n",
    "new_text = text.replace(' ', '_'); file_extension = '.pdb'\n",
    "file_name = new_text + file_extension; del text\n",
    "print(file_name)"
   ]
  }
 ],
 "metadata": {
  "kernelspec": {
   "display_name": "ML",
   "language": "python",
   "name": "python3"
  },
  "language_info": {
   "codemirror_mode": {
    "name": "ipython",
    "version": 3
   },
   "file_extension": ".py",
   "mimetype": "text/x-python",
   "name": "python",
   "nbconvert_exporter": "python",
   "pygments_lexer": "ipython3",
   "version": "3.11.4"
  }
 },
 "nbformat": 4,
 "nbformat_minor": 2
}
